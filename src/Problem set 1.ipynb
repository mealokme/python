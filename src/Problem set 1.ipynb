{
 "cells": [
  {
   "cell_type": "code",
   "execution_count": 1,
   "metadata": {},
   "outputs": [
    {
     "name": "stdout",
     "output_type": "stream",
     "text": [
      "[  0.    0.2   0.4   0.6   0.8   1.    1.2   1.4   1.6   1.8   2.    2.2\n",
      "   2.4   2.6   2.8   3.    3.2   3.4   3.6   3.8   4.    4.2   4.4   4.6\n",
      "   4.8   5.    5.2   5.4   5.6   5.8   6.    6.2   6.4   6.6   6.8   7.\n",
      "   7.2   7.4   7.6   7.8   8.    8.2   8.4   8.6   8.8   9.    9.2   9.4\n",
      "   9.6   9.8  10.   10.2  10.4  10.6  10.8  11.   11.2  11.4  11.6  11.8\n",
      "  12.   12.2  12.4  12.6  12.8  13.   13.2  13.4  13.6  13.8  14.   14.2\n",
      "  14.4  14.6  14.8]\n"
     ]
    }
   ],
   "source": [
    "import numpy as np\n",
    "import matplotlib.pyplot as plt\n",
    "\n",
    "# evenly sampled time at 200ms intervals\n",
    "t = np.arange(0., 15., 0.2)\n",
    "print (t)\n"
   ]
  },
  {
   "cell_type": "code",
   "execution_count": null,
   "metadata": {},
   "outputs": [],
   "source": [
    "from scipy.special import factorial\n",
    "\n",
    "# red dashes, blue squares and green triangles\n",
    "plt.plot(t, t, 'r--', t, t**3, 'bs', t, factorial(t), 'g^')\n",
    "plt.show()"
   ]
  },
  {
   "cell_type": "markdown",
   "metadata": {},
   "source": [
    "# Permtations "
   ]
  },
  {
   "cell_type": "code",
   "execution_count": 43,
   "metadata": {
    "collapsed": true
   },
   "outputs": [],
   "source": [
    "def p(s,r):\n",
    "    \"\"\"\n",
    "    Computes permutations of n numbers taking r at a time \n",
    "    \n",
    "    Args:\n",
    "       s : string representing seq of chars \n",
    "       r: length of permutation to create\n",
    "       \n",
    "    Returns: \n",
    "        list of permutations of size r \n",
    "    \"\"\"\n",
    "    if (r==0 or len(s) == 0):\n",
    "        return list()\n",
    "    if(r == 1):\n",
    "        return list(s)\n",
    "    perms = []\n",
    "    for i in range(len(s)):\n",
    "        sub_perms = [s[i] + x for x in p(s[:i] + s[i+1:], r-1)]\n",
    "        perms += sub_perms\n",
    "        \n",
    "    return set(perms)\n"
   ]
  },
  {
   "cell_type": "code",
   "execution_count": 46,
   "metadata": {},
   "outputs": [
    {
     "name": "stdout",
     "output_type": "stream",
     "text": [
      "60\n"
     ]
    },
    {
     "data": {
      "text/plain": [
       "{'ehk',\n",
       " 'ehl',\n",
       " 'eho',\n",
       " 'ekh',\n",
       " 'ekl',\n",
       " 'eko',\n",
       " 'elh',\n",
       " 'elk',\n",
       " 'elo',\n",
       " 'eoh',\n",
       " 'eok',\n",
       " 'eol',\n",
       " 'hek',\n",
       " 'hel',\n",
       " 'heo',\n",
       " 'hke',\n",
       " 'hkl',\n",
       " 'hko',\n",
       " 'hle',\n",
       " 'hlk',\n",
       " 'hlo',\n",
       " 'hoe',\n",
       " 'hok',\n",
       " 'hol',\n",
       " 'keh',\n",
       " 'kel',\n",
       " 'keo',\n",
       " 'khe',\n",
       " 'khl',\n",
       " 'kho',\n",
       " 'kle',\n",
       " 'klh',\n",
       " 'klo',\n",
       " 'koe',\n",
       " 'koh',\n",
       " 'kol',\n",
       " 'leh',\n",
       " 'lek',\n",
       " 'leo',\n",
       " 'lhe',\n",
       " 'lhk',\n",
       " 'lho',\n",
       " 'lke',\n",
       " 'lkh',\n",
       " 'lko',\n",
       " 'loe',\n",
       " 'loh',\n",
       " 'lok',\n",
       " 'oeh',\n",
       " 'oek',\n",
       " 'oel',\n",
       " 'ohe',\n",
       " 'ohk',\n",
       " 'ohl',\n",
       " 'oke',\n",
       " 'okh',\n",
       " 'okl',\n",
       " 'ole',\n",
       " 'olh',\n",
       " 'olk'}"
      ]
     },
     "execution_count": 46,
     "metadata": {},
     "output_type": "execute_result"
    }
   ],
   "source": [
    "o = p('helko', 3)\n",
    "print(len(o))\n",
    "o"
   ]
  },
  {
   "cell_type": "code",
   "execution_count": 51,
   "metadata": {},
   "outputs": [
    {
     "name": "stdout",
     "output_type": "stream",
     "text": [
      "60\n"
     ]
    },
    {
     "data": {
      "text/plain": [
       "[('h', 'e', 'l'),\n",
       " ('h', 'e', 'l'),\n",
       " ('h', 'e', 'o'),\n",
       " ('h', 'l', 'e'),\n",
       " ('h', 'l', 'l'),\n",
       " ('h', 'l', 'o'),\n",
       " ('h', 'l', 'e'),\n",
       " ('h', 'l', 'l'),\n",
       " ('h', 'l', 'o'),\n",
       " ('h', 'o', 'e'),\n",
       " ('h', 'o', 'l'),\n",
       " ('h', 'o', 'l'),\n",
       " ('e', 'h', 'l'),\n",
       " ('e', 'h', 'l'),\n",
       " ('e', 'h', 'o'),\n",
       " ('e', 'l', 'h'),\n",
       " ('e', 'l', 'l'),\n",
       " ('e', 'l', 'o'),\n",
       " ('e', 'l', 'h'),\n",
       " ('e', 'l', 'l'),\n",
       " ('e', 'l', 'o'),\n",
       " ('e', 'o', 'h'),\n",
       " ('e', 'o', 'l'),\n",
       " ('e', 'o', 'l'),\n",
       " ('l', 'h', 'e'),\n",
       " ('l', 'h', 'l'),\n",
       " ('l', 'h', 'o'),\n",
       " ('l', 'e', 'h'),\n",
       " ('l', 'e', 'l'),\n",
       " ('l', 'e', 'o'),\n",
       " ('l', 'l', 'h'),\n",
       " ('l', 'l', 'e'),\n",
       " ('l', 'l', 'o'),\n",
       " ('l', 'o', 'h'),\n",
       " ('l', 'o', 'e'),\n",
       " ('l', 'o', 'l'),\n",
       " ('l', 'h', 'e'),\n",
       " ('l', 'h', 'l'),\n",
       " ('l', 'h', 'o'),\n",
       " ('l', 'e', 'h'),\n",
       " ('l', 'e', 'l'),\n",
       " ('l', 'e', 'o'),\n",
       " ('l', 'l', 'h'),\n",
       " ('l', 'l', 'e'),\n",
       " ('l', 'l', 'o'),\n",
       " ('l', 'o', 'h'),\n",
       " ('l', 'o', 'e'),\n",
       " ('l', 'o', 'l'),\n",
       " ('o', 'h', 'e'),\n",
       " ('o', 'h', 'l'),\n",
       " ('o', 'h', 'l'),\n",
       " ('o', 'e', 'h'),\n",
       " ('o', 'e', 'l'),\n",
       " ('o', 'e', 'l'),\n",
       " ('o', 'l', 'h'),\n",
       " ('o', 'l', 'e'),\n",
       " ('o', 'l', 'l'),\n",
       " ('o', 'l', 'h'),\n",
       " ('o', 'l', 'e'),\n",
       " ('o', 'l', 'l')]"
      ]
     },
     "execution_count": 51,
     "metadata": {},
     "output_type": "execute_result"
    }
   ],
   "source": [
    "import itertools\n",
    "o = itertools.permutations('hello',3)\n",
    "l=[x for x in o]\n",
    "print (len(l))\n",
    "l"
   ]
  },
  {
   "cell_type": "markdown",
   "metadata": {},
   "source": [
    "# Divide x by y "
   ]
  },
  {
   "cell_type": "code",
   "execution_count": null,
   "metadata": {},
   "outputs": [],
   "source": [
    "def divide(x, y):\n",
    "    power = 32\n",
    "    yp = y<<power\n",
    "    q = 0\n",
    "    while(x >= y):\n",
    "        while(yp > x ):\n",
    "            power -= 1\n",
    "            yp = y << power\n",
    "        x -= yp\n",
    "        q += 1<<power\n",
    "    \n",
    "    return (q, x)"
   ]
  },
  {
   "cell_type": "markdown",
   "metadata": {},
   "source": [
    "# Given a sorted array, find if there exists a 2 tuple that sum to x"
   ]
  },
  {
   "cell_type": "code",
   "execution_count": null,
   "metadata": {},
   "outputs": [],
   "source": [
    "def find_2tuple(a,x):\n",
    "    i = 0\n",
    "    j = len(a)-1\n",
    "    while ( i < j ): \n",
    "        s = a[i]+a[j]\n",
    "        if(s > x):\n",
    "            j--\n",
    "        elif(s < x "
   ]
  },
  {
   "cell_type": "markdown",
   "metadata": {},
   "source": [
    "#  Given a sorted array, find if there exists a 3-tuple that sums to x\n",
    "   "
   ]
  },
  {
   "cell_type": "code",
   "execution_count": null,
   "metadata": {},
   "outputs": [],
   "source": [
    "def find(arr, x):\n",
    "    \"\"\"\n",
    "    Given a sorted array if thereb exists a 3-tuple that sums to x\n",
    "    \"\"\""
   ]
  },
  {
   "cell_type": "markdown",
   "metadata": {},
   "source": [
    "## Given an array, move all the zeroes to the end (purge array)"
   ]
  },
  {
   "cell_type": "code",
   "execution_count": 2,
   "metadata": {},
   "outputs": [],
   "source": [
    "# [ 7 2 0 0 6 0 3] -> [7 2 6 3 0 0 0]\n",
    "# j points to location where non-zero should be moved to\n",
    "def purge_inplace(arr):\n",
    "    j = -1 \n",
    "    for i in range(len(arr)):\n",
    "        if(arr[i] != 0):\n",
    "            j+=1\n",
    "            swap(arr[i], arr[j])\n",
    "            "
   ]
  },
  {
   "cell_type": "code",
   "execution_count": null,
   "metadata": {},
   "outputs": [],
   "source": []
  }
 ],
 "metadata": {
  "anaconda-cloud": {},
  "kernelspec": {
   "display_name": "Python [Root]",
   "language": "python",
   "name": "Python [Root]"
  },
  "language_info": {
   "codemirror_mode": {
    "name": "ipython",
    "version": 3
   },
   "file_extension": ".py",
   "mimetype": "text/x-python",
   "name": "python",
   "nbconvert_exporter": "python",
   "pygments_lexer": "ipython3",
   "version": "3.5.2"
  }
 },
 "nbformat": 4,
 "nbformat_minor": 1
}
