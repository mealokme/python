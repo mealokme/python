{
 "cells": [
  {
   "cell_type": "markdown",
   "metadata": {},
   "source": [
    "Give k, Which numbers in 1..k that when flipped as mirror image are still valid numbers in the k range. \n",
    "E.g. for k=650, 18 -> 81, 61 -> 19, 15->51, 189 -> 981 (> 650 so not valid)\n",
    "\n"
   ]
  },
  {
   "cell_type": "code",
   "execution_count": 85,
   "metadata": {},
   "outputs": [
    {
     "name": "stdout",
     "output_type": "stream",
     "text": [
      "{'9': '6', '0': '0', '6': '9', '1': '1', '8': '8'}\n",
      "dict_keys(['9', '0', '6', '1', '8'])\n"
     ]
    }
   ],
   "source": [
    "def mirror_numbers(k):\n",
    "    numbers = generate_candidates(k)\n",
    "    print (\"candidates:\", numbers )\n",
    "    numbers[:] = [x for x in numbers if not is_filter_candidate(x, k)]\n",
    "    return set(numbers)\n",
    "\n",
    "num_dict = {'0':'0', '1':'1', '6':'9', '8':'8', '9':'6' } # valid mappings\n",
    "digits = num_dict.keys()\n",
    "print (num_dict)\n",
    "print (digits)\n",
    "\n",
    "def generate_candidates(k):\n",
    "    candidates = []\n",
    "    for ndigits in range(1,len(str(k)) + 1 ):\n",
    "        candidates += generate_permutations(ndigits)\n",
    "    return candidates\n",
    "\n",
    "def generate_permutations(size):\n",
    "    perms = [map_number(x, num_dict) for x in itertools.permutations(digits, size)]  \n",
    "    return perms\n",
    "\n",
    "def map_number(n, ndict):\n",
    "    return \"\".join([ndict[x] for x in reversed(n)])\n",
    "    \n",
    "# filter a given number \n",
    "def is_filter_candidate(c, k):\n",
    "    if (c[0] == '0') or (int(\"\".join(c)) > k):\n",
    "        return True\n",
    "    return False\n"
   ]
  },
  {
   "cell_type": "code",
   "execution_count": 86,
   "metadata": {
    "scrolled": true
   },
   "outputs": [
    {
     "name": "stdout",
     "output_type": "stream",
     "text": [
      "candidates: ['6', '0', '9', '1', '8', '06', '96', '16', '86', '60', '90', '10', '80', '69', '09', '19', '89', '61', '01', '91', '81', '68', '08', '98', '18', '906', '106', '806', '096', '196', '896', '016', '916', '816', '086', '986', '186', '960', '160', '860', '690', '190', '890', '610', '910', '810', '680', '980', '180', '069', '169', '869', '609', '109', '809', '619', '019', '819', '689', '089', '189', '061', '961', '861', '601', '901', '801', '691', '091', '891', '681', '081', '981', '068', '968', '168', '608', '908', '108', '698', '098', '198', '618', '018', '918']\n",
      " ++ 6 6\n",
      " ++ 0 0\n",
      " ++ 9 9\n",
      " ++ 1 1\n",
      " ++ 8 8\n",
      " ++ 06 06\n",
      " ++ 96 96\n",
      " ++ 16 16\n",
      " ++ 86 86\n",
      " ++ 60 60\n",
      " ++ 90 90\n",
      " ++ 10 10\n",
      " ++ 80 80\n",
      " ++ 69 69\n",
      " ++ 09 09\n",
      " ++ 19 19\n",
      " ++ 89 89\n",
      " ++ 61 61\n",
      " ++ 01 01\n",
      " ++ 91 91\n",
      " ++ 81 81\n",
      " ++ 68 68\n",
      " ++ 08 08\n",
      " ++ 98 98\n",
      " ++ 18 18\n",
      " ++ 906 906\n",
      " ++ 106 106\n",
      " ++ 806 806\n",
      " ++ 096 096\n",
      " ++ 196 196\n",
      " ++ 896 896\n",
      " ++ 016 016\n",
      " ++ 916 916\n",
      " ++ 816 816\n",
      " ++ 086 086\n",
      " ++ 986 986\n",
      " ++ 186 186\n",
      " ++ 960 960\n",
      " ++ 160 160\n",
      " ++ 860 860\n",
      " ++ 690 690\n",
      " ++ 190 190\n",
      " ++ 890 890\n",
      " ++ 610 610\n",
      " ++ 910 910\n",
      " ++ 810 810\n",
      " ++ 680 680\n",
      " ++ 980 980\n",
      " ++ 180 180\n",
      " ++ 069 069\n",
      " ++ 169 169\n",
      " ++ 869 869\n",
      " ++ 609 609\n",
      " ++ 109 109\n",
      " ++ 809 809\n",
      " ++ 619 619\n",
      " ++ 019 019\n",
      " ++ 819 819\n",
      " ++ 689 689\n",
      " ++ 089 089\n",
      " ++ 189 189\n",
      " ++ 061 061\n",
      " ++ 961 961\n",
      " ++ 861 861\n",
      " ++ 601 601\n",
      " ++ 901 901\n",
      " ++ 801 801\n",
      " ++ 691 691\n",
      " ++ 091 091\n",
      " ++ 891 891\n",
      " ++ 681 681\n",
      " ++ 081 081\n",
      " ++ 981 981\n",
      " ++ 068 068\n",
      " ++ 968 968\n",
      " ++ 168 168\n",
      " ++ 608 608\n",
      " ++ 908 908\n",
      " ++ 108 108\n",
      " ++ 698 698\n",
      " ++ 098 098\n",
      " ++ 198 198\n",
      " ++ 618 618\n",
      " ++ 018 018\n",
      " ++ 918 918\n",
      "{'108', '196', '109', '186', '10', '1', '60', '68', '18', '168', '81', '189', '190', '160', '6', '96', '86', '169', '106', '16', '90', '61', '8', '180', '9', '69', '80', '91', '89', '98', '198', '19'}\n"
     ]
    }
   ],
   "source": [
    "#generate_candidates(500)\n",
    "o = mirror_numbers(500)\n",
    "print(o)"
   ]
  },
  {
   "cell_type": "code",
   "execution_count": 4,
   "metadata": {},
   "outputs": [
    {
     "name": "stdout",
     "output_type": "stream",
     "text": [
      "1\n",
      "2\n",
      "3\n",
      "4\n",
      "6\n",
      "8\n"
     ]
    }
   ],
   "source": [
    "a=[1,2,3,4,6,8]\n",
    "a[:] = [x for x in a if not determine(x)]"
   ]
  },
  {
   "cell_type": "code",
   "execution_count": 21,
   "metadata": {},
   "outputs": [
    {
     "name": "stdout",
     "output_type": "stream",
     "text": [
      "[('0', '1', '1'), ('0', '1', '1'), ('1', '0', '1'), ('1', '1', '0'), ('1', '0', '1'), ('1', '1', '0')]\n",
      "['011', '011', '101', '110', '101', '110']\n",
      "{'110', '101', '011'}\n"
     ]
    }
   ],
   "source": [
    "x = '011'\n",
    "x = ['0', '1', '1']\n",
    "import itertools\n",
    "print([i for i in itertools.permutations(x)])\n",
    "print([\"\".join(i) for i in itertools.permutations(x)])\n",
    "l = [\"\".join(i) for i in itertools.permutations(x)]\n",
    "print(set(l))"
   ]
  },
  {
   "cell_type": "markdown",
   "metadata": {},
   "source": [
    "## Next"
   ]
  },
  {
   "cell_type": "markdown",
   "metadata": {},
   "source": [
    "Suppose we could access yesterday's stock prices as a list, where: \n",
    "The indices are the time in minutes past trade opening time, which was 9:30am local time. \n",
    "The values are the price in dollars of Apple stock at that time. \n",
    "So if the stock cost $500 at 10:30am, stock_prices_yesterday[60] = 500. \n",
    "Write an efficient function that takes stock_prices_yesterday and returns the best profit I could have made from 1 purchase and 1 sale of 1 Apple stock yesterday. \n"
   ]
  },
  {
   "cell_type": "code",
   "execution_count": null,
   "metadata": {},
   "outputs": [],
   "source": [
    "from datetime import time, timedelta, datetime\n",
    "\n",
    "stock_values = []\n",
    "def init():\n",
    "    # number of values between 9:30am to 5:30pm \n",
    "    num_mins = time(9,30)\n",
    "    "
   ]
  }
 ],
 "metadata": {
  "kernelspec": {
   "display_name": "Python [Root]",
   "language": "python",
   "name": "Python [Root]"
  },
  "language_info": {
   "codemirror_mode": {
    "name": "ipython",
    "version": 3
   },
   "file_extension": ".py",
   "mimetype": "text/x-python",
   "name": "python",
   "nbconvert_exporter": "python",
   "pygments_lexer": "ipython3",
   "version": "3.5.2"
  }
 },
 "nbformat": 4,
 "nbformat_minor": 1
}
