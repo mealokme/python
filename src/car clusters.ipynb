{
 "cells": [
  {
   "cell_type": "markdown",
   "metadata": {},
   "source": [
    "Given cars with speeds 1..n in a random order. Return the clusters of cars that travel together."
   ]
  },
  {
   "cell_type": "code",
   "execution_count": 4,
   "metadata": {},
   "outputs": [],
   "source": [
    "import random \n",
    "\n",
    "def generate_seq(k):\n",
    "    return random.sample(range(k), k)\n",
    "\n"
   ]
  },
  {
   "cell_type": "code",
   "execution_count": 6,
   "metadata": {},
   "outputs": [
    {
     "data": {
      "text/plain": [
       "[7, 4, 0, 3, 2, 8, 9, 5, 1, 6]"
      ]
     },
     "execution_count": 6,
     "metadata": {},
     "output_type": "execute_result"
    }
   ],
   "source": [
    "generate_seq(10)"
   ]
  },
  {
   "cell_type": "code",
   "execution_count": 7,
   "metadata": {},
   "outputs": [
    {
     "data": {
      "text/plain": [
       "[12, 17, 18, 9, 11, 7, 5, 14, 10, 8, 1, 19, 2, 15, 6, 3, 0, 13, 4, 16]"
      ]
     },
     "execution_count": 7,
     "metadata": {},
     "output_type": "execute_result"
    }
   ],
   "source": [
    "generate_seq(20)"
   ]
  },
  {
   "cell_type": "code",
   "execution_count": 1,
   "metadata": {},
   "outputs": [],
   "source": [
    "def segment(l):\n",
    "    clusters = []\n",
    "    c = []\n",
    "    min = 0\n",
    "    for i in range(len(l)):\n",
    "        if(l[i] < l[min]):\n",
    "            clusters.append(c)\n",
    "            c=list()\n",
    "            min = i \n",
    "        c.append(l[i])\n",
    "    clusters.append(c)\n",
    "    return clusters"
   ]
  },
  {
   "cell_type": "code",
   "execution_count": 2,
   "metadata": {},
   "outputs": [],
   "source": [
    "# same code re-try\n",
    "def cluster(l):\n",
    "    clusters = []\n",
    "    c = []\n",
    "    imin = 0\n",
    "    for i in range(len(l)):\n",
    "        if(l[i] < l[imin]):\n",
    "            clusters.append(c)\n",
    "            c=[]\n",
    "            imin = i\n",
    "        c.append(l[i])\n",
    "    clusters.append(c)\n",
    "    return clusters\n"
   ]
  },
  {
   "cell_type": "code",
   "execution_count": 6,
   "metadata": {},
   "outputs": [
    {
     "name": "stdout",
     "output_type": "stream",
     "text": [
      "seq: [7, 4, 8, 0, 6, 9, 2, 5, 3, 1]\n",
      "c:[7]\n",
      "c:[4, 8]\n",
      "c:[0, 6, 9, 2, 5, 3, 1]\n"
     ]
    }
   ],
   "source": [
    "l = generate_seq(10)\n",
    "print ('seq: ' + str(l))\n",
    "c = segment(l)\n",
    "for i in range(len(c)):\n",
    "    print(\"c:\" + str(c[i]))"
   ]
  },
  {
   "cell_type": "code",
   "execution_count": null,
   "metadata": {
    "collapsed": true
   },
   "outputs": [],
   "source": []
  }
 ],
 "metadata": {
  "anaconda-cloud": {},
  "kernelspec": {
   "display_name": "Python [Root]",
   "language": "python",
   "name": "Python [Root]"
  },
  "language_info": {
   "codemirror_mode": {
    "name": "ipython",
    "version": 3
   },
   "file_extension": ".py",
   "mimetype": "text/x-python",
   "name": "python",
   "nbconvert_exporter": "python",
   "pygments_lexer": "ipython3",
   "version": "3.5.2"
  }
 },
 "nbformat": 4,
 "nbformat_minor": 1
}
