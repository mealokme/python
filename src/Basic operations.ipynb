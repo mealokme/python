{
 "cells": [
  {
   "cell_type": "markdown",
   "metadata": {},
   "source": [
    "## Date Time \n",
    "\n"
   ]
  },
  {
   "cell_type": "code",
   "execution_count": null,
   "metadata": {
    "collapsed": true
   },
   "outputs": [],
   "source": [
    "from datetime import datetime , timedelta\n"
   ]
  },
  {
   "cell_type": "code",
   "execution_count": null,
   "metadata": {
    "collapsed": true
   },
   "outputs": [],
   "source": [
    "curr_time  = datetime.now()\n",
    "print(\"time now\", curr_time, ',', curr_time.time() )\n"
   ]
  },
  {
   "cell_type": "code",
   "execution_count": null,
   "metadata": {
    "collapsed": true
   },
   "outputs": [],
   "source": [
    "from datetime import timedelta\n",
    "\n",
    "print (\"now\", curr_time, \"\\nyesterday \" , curr_time - timedelta(days=1))"
   ]
  },
  {
   "cell_type": "code",
   "execution_count": null,
   "metadata": {
    "collapsed": true
   },
   "outputs": [],
   "source": [
    "t1 = datetime(2017,10,19, 9,30, 0, 0)\n",
    "print(t1)\n",
    "t2 = t1 + timedelta(hours=8)\n",
    "print(t2)\n",
    "# Find number of minutes between 9:30 to 5:30 \n",
    "\n",
    "d = t2- t1\n",
    "diff_mins = d.seconds/60\n",
    "print(\"Time difference in minutes =\" , diff_mins, ' mins')"
   ]
  },
  {
   "cell_type": "markdown",
   "metadata": {},
   "source": [
    "Find number of minutes from time object "
   ]
  },
  {
   "cell_type": "code",
   "execution_count": null,
   "metadata": {
    "collapsed": true
   },
   "outputs": [],
   "source": [
    "from datetime import time\n",
    "t3 = time(9,30,0,0) \n",
    "t4 = time(17,30, 0, 0)\n",
    "print(t3, t4)\n",
    "# can't do this t3 -t4\n",
    "td3 = timedelta(hours = t3.hour, minutes = t3.minute, seconds = t3.second, milliseconds = 0, microseconds=0)\n",
    "td4 = timedelta(hours = t4.hour, minutes = t4.minute, seconds = t4.second, milliseconds = 0, microseconds=0)\n",
    "\n",
    "print (\"diff:\", (td4 - td3).total_seconds()/60)"
   ]
  },
  {
   "cell_type": "markdown",
   "metadata": {},
   "source": [
    "## Random "
   ]
  },
  {
   "cell_type": "code",
   "execution_count": 1,
   "metadata": {},
   "outputs": [
    {
     "data": {
      "text/plain": [
       "[19, 13, 12, 15, 18]"
      ]
     },
     "execution_count": 1,
     "metadata": {},
     "output_type": "execute_result"
    }
   ],
   "source": [
    "import random\n",
    "\n",
    "# Sample 5 numbers from range 10-20\n",
    "random.sample(range(10,20), 5)"
   ]
  },
  {
   "cell_type": "code",
   "execution_count": 2,
   "metadata": {},
   "outputs": [
    {
     "data": {
      "text/plain": [
       "1.5164922860559122"
      ]
     },
     "execution_count": 2,
     "metadata": {},
     "output_type": "execute_result"
    }
   ],
   "source": [
    "# generate a random number in range 0-1\n",
    "random.uniform(1,2)"
   ]
  },
  {
   "cell_type": "code",
   "execution_count": 3,
   "metadata": {},
   "outputs": [
    {
     "data": {
      "text/plain": [
       "[1.9398849019153057,\n",
       " 1.3318815158754858,\n",
       " 1.9905150101492457,\n",
       " 1.6570143428890325,\n",
       " 1.353320717322462]"
      ]
     },
     "execution_count": 3,
     "metadata": {},
     "output_type": "execute_result"
    }
   ],
   "source": [
    "[random.uniform(1,2) for x in range(5)]"
   ]
  },
  {
   "cell_type": "code",
   "execution_count": 1,
   "metadata": {},
   "outputs": [
    {
     "name": "stdout",
     "output_type": "stream",
     "text": [
      "0.7383707623532517\n",
      "2.059696557538261\n",
      "[ 2.98154041  2.14647614  2.21116717  2.41528171  2.39085686]\n",
      "[[-0.79641075 -0.54093435]\n",
      " [ 0.35700015 -1.38815003]\n",
      " [-0.31335401 -1.05004409]\n",
      " [ 0.60440578 -1.34107467]\n",
      " [-0.1640396  -0.89449821]]\n"
     ]
    }
   ],
   "source": [
    "import numpy as np\n",
    "print(np.random.uniform())\n",
    "print(np.random.uniform(2,3))\n",
    "print(np.random.uniform(2,3,5))\n",
    "print(np.random.randn(5,2))"
   ]
  },
  {
   "cell_type": "code",
   "execution_count": null,
   "metadata": {
    "collapsed": true
   },
   "outputs": [],
   "source": [
    "[x for x in range(3,5)]"
   ]
  },
  {
   "cell_type": "raw",
   "metadata": {},
   "source": [
    "l=h=0"
   ]
  },
  {
   "cell_type": "markdown",
   "metadata": {},
   "source": [
    "   ## Lists\n",
    "   Can have elements of different types. Reference : http://www.physics.nyu.edu/pine/pymanual/html/chap3/chap3_arrays.html\n",
    "   "
   ]
  },
  {
   "cell_type": "code",
   "execution_count": 6,
   "metadata": {},
   "outputs": [
    {
     "name": "stdout",
     "output_type": "stream",
     "text": [
      "[] [1, 2, 'h', 'hello'] hello\n"
     ]
    }
   ],
   "source": [
    "empty_list = []\n",
    "l = [1,2,'h',\"hello\"]\n",
    "print(empty_list, l, l[3])"
   ]
  },
  {
   "cell_type": "code",
   "execution_count": 9,
   "metadata": {},
   "outputs": [
    {
     "name": "stdout",
     "output_type": "stream",
     "text": [
      "[1, 2, 'h', 'hello', 1, 2, 'h', 'hello']\n",
      "[1, 2] ['h', 'hello']\n"
     ]
    }
   ],
   "source": [
    "# concatenate list \n",
    "print (l + l )\n",
    "#slice list \n",
    "print (l[:2], l[2:])"
   ]
  },
  {
   "cell_type": "markdown",
   "metadata": {},
   "source": [
    "## Tuples = Immutable lists \n"
   ]
  },
  {
   "cell_type": "code",
   "execution_count": 14,
   "metadata": {},
   "outputs": [
    {
     "name": "stdout",
     "output_type": "stream",
     "text": [
      "(1, 3, 'c', 'kkk')\n"
     ]
    }
   ],
   "source": [
    "c = (1, 3, 'c', \"kkk\")\n",
    "print(c)\n",
    "#c[2] = 5 # ERROR: Can't modify tuple"
   ]
  },
  {
   "cell_type": "markdown",
   "metadata": {},
   "source": [
    "\n",
    "## Multi dimensional Array"
   ]
  },
  {
   "cell_type": "code",
   "execution_count": 19,
   "metadata": {},
   "outputs": [
    {
     "name": "stdout",
     "output_type": "stream",
     "text": [
      "[[1, 2], [3, 4], [5, 6]] 3 2\n",
      "[5, 6] 6\n"
     ]
    }
   ],
   "source": [
    "a = [[1,2],[3,4], [5,6]]\n",
    "print(a, len(a), len(a[1]))\n",
    "\n",
    "print(a[2], a[2][1])"
   ]
  },
  {
   "cell_type": "markdown",
   "metadata": {},
   "source": [
    "### Numpy Array"
   ]
  },
  {
   "cell_type": "code",
   "execution_count": 35,
   "metadata": {},
   "outputs": [
    {
     "name": "stdout",
     "output_type": "stream",
     "text": [
      "[3 6 8]\n",
      "[  0.    2.5   5.    7.5  10. ] [  1.00000000e+00   1.77827941e+02   3.16227766e+04   5.62341325e+06\n",
      "   1.00000000e+09] [0 2 4 6 8]\n",
      "[0 0 0 0] [1 1 1 1]\n"
     ]
    }
   ],
   "source": [
    "import numpy as np\n",
    "\n",
    "na = np.array([3,6,8])\n",
    "print(na)\n",
    "\n",
    "na1 = np.linspace(0,10, 5)\n",
    "na2 = np.logspace(0,9,5) # 5 points in range 10^0 to 10^9\n",
    "na3 = np.arange(0,10,2)\n",
    "print(na1, na2, na3)\n",
    "\n",
    "na4 = np.zeros(4, dtype=int)\n",
    "na5 = np.ones(4, dtype=int)\n",
    "\n",
    "print(na4, na5)"
   ]
  },
  {
   "cell_type": "markdown",
   "metadata": {},
   "source": [
    "### Numpy: Multi dimensional array "
   ]
  },
  {
   "cell_type": "code",
   "execution_count": 44,
   "metadata": {},
   "outputs": [
    {
     "name": "stdout",
     "output_type": "stream",
     "text": [
      "[[ 1.  1.  1.  1.]\n",
      " [ 1.  1.  1.  1.]\n",
      " [ 1.  1.  1.  1.]]\n",
      "[0 1 2 3 4 5] \n",
      " [[0 1 2]\n",
      " [3 4 5]]\n"
     ]
    }
   ],
   "source": [
    " a = np.ones((3,4), dtype=float)\n",
    "print(a)\n",
    "c = np.arange(6)\n",
    "c1 = np.reshape(c, (2,3))\n",
    "print(c,'\\n', c1)"
   ]
  },
  {
   "cell_type": "code",
   "execution_count": 45,
   "metadata": {},
   "outputs": [
    {
     "data": {
      "text/plain": [
       "5"
      ]
     },
     "execution_count": 45,
     "metadata": {},
     "output_type": "execute_result"
    }
   ],
   "source": [
    "#indexing array\n",
    "c1[1][2]"
   ]
  },
  {
   "cell_type": "markdown",
   "metadata": {},
   "source": [
    "### Dictionaries"
   ]
  },
  {
   "cell_type": "code",
   "execution_count": 48,
   "metadata": {},
   "outputs": [
    {
     "name": "stdout",
     "output_type": "stream",
     "text": [
      "dict_keys(['tank', 'phrase', 'bones', 846]) dict_values([52, 'I am here', [23, 'fox', 'grass'], 'horse'])\n"
     ]
    }
   ],
   "source": [
    "weird = {\"tank\":52, 846:\"horse\", \"bones\":[23, \"fox\", \"grass\"], \"phrase\":\"I am here\"}\n",
    "e = weird['tank']\n",
    "print (weird.keys(), weird.values())\n"
   ]
  },
  {
   "cell_type": "markdown",
   "metadata": {},
   "source": [
    "# Bitwise operators"
   ]
  },
  {
   "cell_type": "markdown",
   "metadata": {},
   "source": [
    "Binary number written with prefix 0b. \n",
    "\n"
   ]
  },
  {
   "cell_type": "code",
   "execution_count": null,
   "metadata": {
    "collapsed": true
   },
   "outputs": [],
   "source": [
    "print(0b11) ; x=0b111; print(x)"
   ]
  },
  {
   "cell_type": "code",
   "execution_count": null,
   "metadata": {
    "collapsed": true
   },
   "outputs": [],
   "source": [
    "bin(3)"
   ]
  },
  {
   "cell_type": "markdown",
   "metadata": {},
   "source": [
    "Bitwise operators : operators <<, >>, &, |, ~, and ^ "
   ]
  },
  {
   "cell_type": "code",
   "execution_count": null,
   "metadata": {
    "collapsed": true
   },
   "outputs": [],
   "source": [
    "print('Left shift 10<<2 = ', 10<<2, '; right shift 10>>2 = ', 10>>2)"
   ]
  },
  {
   "cell_type": "code",
   "execution_count": null,
   "metadata": {
    "collapsed": true
   },
   "outputs": [],
   "source": [
    "print(\"bitwise AND 10&1 = \", 10 & 1, \"; OR 10|1 = \", 10|1, \"; Complement ~10 = \", ~10, \" ; XOR 10 ^ 1 = \", 10^1)"
   ]
  },
  {
   "cell_type": "markdown",
   "metadata": {},
   "source": [
    "# Count number of 1 bits in an int"
   ]
  },
  {
   "cell_type": "code",
   "execution_count": null,
   "metadata": {
    "collapsed": true
   },
   "outputs": [],
   "source": [
    "def one_bits(n):\n",
    "    print (n, ', in binary = ', bin(n) )\n",
    "    cnt=0\n",
    "    while (n > 0): \n",
    "        if (n & 1 == 1):\n",
    "            cnt+=1\n",
    "        n = n>>1\n",
    "    return cnt\n",
    "\n",
    "def one_bits2(n):\n",
    "    cnt = 0 \n",
    "    while (n > 0):\n",
    "        n &= (n-1)\n",
    "        cnt+=1\n",
    "    return cnt"
   ]
  },
  {
   "cell_type": "code",
   "execution_count": null,
   "metadata": {},
   "outputs": [],
   "source": [
    "one_bits(11), one_bits2(11)"
   ]
  },
  {
   "cell_type": "code",
   "execution_count": 2,
   "metadata": {},
   "outputs": [
    {
     "name": "stdout",
     "output_type": "stream",
     "text": [
      "8 0\n"
     ]
    }
   ],
   "source": [
    "print(9&8, 8&7)"
   ]
  },
  {
   "cell_type": "markdown",
   "metadata": {},
   "source": [
    "Extract the lowest set bit"
   ]
  },
  {
   "cell_type": "code",
   "execution_count": 2,
   "metadata": {},
   "outputs": [
    {
     "name": "stdout",
     "output_type": "stream",
     "text": [
      "0b1100 0b100 8 0b1000\n"
     ]
    }
   ],
   "source": [
    "x = 12\n",
    "y = x & ~(x-1)\n",
    "print (bin(x) , bin(y), x^y, bin(x^y)) "
   ]
  },
  {
   "cell_type": "markdown",
   "metadata": {},
   "source": [
    "# Deque in python "
   ]
  },
  {
   "cell_type": "code",
   "execution_count": 9,
   "metadata": {},
   "outputs": [
    {
     "name": "stdout",
     "output_type": "stream",
     "text": [
      "deque([1, 2, 3, 4])\n",
      "1\n",
      "2\n",
      "3\n",
      "4\n",
      "4 deque([1, 2, 3])\n"
     ]
    }
   ],
   "source": [
    "from collections import deque\n",
    "d = deque([1,2,3,4])\n",
    "\n",
    "print (d)\n",
    "for x in d:\n",
    "    print (x)\n",
    "print(d.pop(), d)"
   ]
  },
  {
   "cell_type": "markdown",
   "metadata": {},
   "source": [
    "### Sets in python "
   ]
  },
  {
   "cell_type": "code",
   "execution_count": 3,
   "metadata": {},
   "outputs": [
    {
     "data": {
      "text/plain": [
       "{2, 3}"
      ]
     },
     "execution_count": 3,
     "metadata": {},
     "output_type": "execute_result"
    }
   ],
   "source": [
    "a = {2,3,3}\n",
    "a"
   ]
  },
  {
   "cell_type": "code",
   "execution_count": 6,
   "metadata": {},
   "outputs": [
    {
     "data": {
      "text/plain": [
       "{1, 2, 3, 4, 6, 7}"
      ]
     },
     "execution_count": 6,
     "metadata": {},
     "output_type": "execute_result"
    }
   ],
   "source": [
    "b = {3,3,3,4,6,7,1,2}\n",
    "b"
   ]
  },
  {
   "cell_type": "code",
   "execution_count": 8,
   "metadata": {},
   "outputs": [
    {
     "data": {
      "text/plain": [
       "{2, 3}"
      ]
     },
     "execution_count": 8,
     "metadata": {},
     "output_type": "execute_result"
    }
   ],
   "source": [
    "a.intersection(b)"
   ]
  },
  {
   "cell_type": "code",
   "execution_count": 33,
   "metadata": {},
   "outputs": [
    {
     "name": "stdout",
     "output_type": "stream",
     "text": [
      "[11, 13, 14, 18, 19] [5, 9, 11, 13, 14, 17, 19, 20, 23, 24]\n",
      "11\n",
      "13\n",
      "14\n",
      "19\n"
     ]
    }
   ],
   "source": [
    "import random\n",
    "\n",
    "#Merge sorted arrays\n",
    "def merge(s1, s2):\n",
    "    i = j = 0 ; \n",
    "    while(i < len (s1) and j < len(s2)):\n",
    "        if(s1[i] == s2[j]):\n",
    "            print(s1[i])\n",
    "            i+=1\n",
    "            j+=1\n",
    "        elif s1[i]<s2[j]:\n",
    "            i+=1\n",
    "        else:\n",
    "            j+=1\n",
    "    \n",
    "a1 = random.sample(range(10,20), 5)\n",
    "a2 = random.sample(range(5,25), 10)\n",
    "a1.sort()\n",
    "a2.sort()\n",
    "\n",
    "print (a1, a2)\n",
    "merge(a1, a2)"
   ]
  },
  {
   "cell_type": "code",
   "execution_count": 26,
   "metadata": {},
   "outputs": [
    {
     "data": {
      "text/plain": [
       "[10, 12, 13, 14, 15, 16, 17, 18]"
      ]
     },
     "execution_count": 26,
     "metadata": {},
     "output_type": "execute_result"
    }
   ],
   "source": [
    "a1.sort()\n",
    "a1"
   ]
  },
  {
   "cell_type": "markdown",
   "metadata": {},
   "source": [
    "## Purge array of"
   ]
  }
 ],
 "metadata": {
  "anaconda-cloud": {},
  "kernelspec": {
   "display_name": "Python 3",
   "language": "python",
   "name": "python3"
  },
  "language_info": {
   "codemirror_mode": {
    "name": "ipython",
    "version": 3
   },
   "file_extension": ".py",
   "mimetype": "text/x-python",
   "name": "python",
   "nbconvert_exporter": "python",
   "pygments_lexer": "ipython3",
   "version": "3.6.2"
  }
 },
 "nbformat": 4,
 "nbformat_minor": 2
}
