{
 "cells": [
  {
   "cell_type": "markdown",
   "metadata": {},
   "source": [
    "## Date Time \n",
    "\n"
   ]
  },
  {
   "cell_type": "code",
   "execution_count": 5,
   "metadata": {},
   "outputs": [],
   "source": [
    "from datetime import datetime , timedelta\n"
   ]
  },
  {
   "cell_type": "code",
   "execution_count": 6,
   "metadata": {},
   "outputs": [
    {
     "name": "stdout",
     "output_type": "stream",
     "text": [
      "time now 2017-10-19 16:04:35.007312 , 16:04:35.007312\n"
     ]
    }
   ],
   "source": [
    "curr_time  = datetime.now()\n",
    "print(\"time now\", curr_time, ',', curr_time.time() )\n"
   ]
  },
  {
   "cell_type": "code",
   "execution_count": 7,
   "metadata": {},
   "outputs": [
    {
     "name": "stdout",
     "output_type": "stream",
     "text": [
      "now 2017-10-19 16:04:35.007312 \n",
      "yesterday  2017-10-18 16:04:35.007312\n"
     ]
    }
   ],
   "source": [
    "from datetime import timedelta\n",
    "\n",
    "print (\"now\", curr_time, \"\\nyesterday \" , curr_time - timedelta(days=1))"
   ]
  },
  {
   "cell_type": "code",
   "execution_count": 9,
   "metadata": {},
   "outputs": [
    {
     "name": "stdout",
     "output_type": "stream",
     "text": [
      "2017-10-19 09:30:00\n",
      "2017-10-19 17:30:00\n",
      "Time difference in minutes = 480.0  mins\n"
     ]
    }
   ],
   "source": [
    "t1 = datetime(2017,10,19, 9,30, 0, 0)\n",
    "print(t1)\n",
    "t2 = t1 + timedelta(hours=8)\n",
    "print(t2)\n",
    "# Find number of minutes between 9:30 to 5:30 \n",
    "\n",
    "d = t2- t1\n",
    "diff_mins = d.seconds/60\n",
    "print(\"Time difference in minutes =\" , diff_mins, ' mins')"
   ]
  },
  {
   "cell_type": "markdown",
   "metadata": {},
   "source": [
    "Find number of minutes from time object "
   ]
  },
  {
   "cell_type": "code",
   "execution_count": 21,
   "metadata": {},
   "outputs": [
    {
     "name": "stdout",
     "output_type": "stream",
     "text": [
      "09:30:00 17:30:00\n",
      "diff: 480.0\n"
     ]
    }
   ],
   "source": [
    "from datetime import time\n",
    "t3 = time(9,30,0,0) \n",
    "t4 = time(17,30, 0, 0)\n",
    "print(t3, t4)\n",
    "# can't do this t3 -t4\n",
    "td3 = timedelta(hours = t3.hour, minutes = t3.minute, seconds = t3.second, milliseconds = 0, microseconds=0)\n",
    "td4 = timedelta(hours = t4.hour, minutes = t4.minute, seconds = t4.second, milliseconds = 0, microseconds=0)\n",
    "\n",
    "print (\"diff:\", (td4 - td3).total_seconds()/60)"
   ]
  }
 ],
 "metadata": {
  "kernelspec": {
   "display_name": "Python [Root]",
   "language": "python",
   "name": "Python [Root]"
  },
  "language_info": {
   "codemirror_mode": {
    "name": "ipython",
    "version": 3
   },
   "file_extension": ".py",
   "mimetype": "text/x-python",
   "name": "python",
   "nbconvert_exporter": "python",
   "pygments_lexer": "ipython3",
   "version": "3.5.2"
  }
 },
 "nbformat": 4,
 "nbformat_minor": 2
}
