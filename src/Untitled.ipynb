{
 "cells": [
  {
   "cell_type": "code",
   "execution_count": null,
   "metadata": {},
   "outputs": [],
   "source": [
    "import numpy as np\n",
    "import matplotlib.pyplot as plt\n",
    "\n",
    "# evenly sampled time at 200ms intervals\n",
    "t = np.arange(0., 15., 0.2)\n",
    "print (t)\n",
    "\n",
    "\n"
   ]
  },
  {
   "cell_type": "code",
   "execution_count": null,
   "metadata": {},
   "outputs": [],
   "source": [
    "from scipy.special import factorial\n",
    "\n",
    "# red dashes, blue squares and green triangles\n",
    "plt.plot(t, t, 'r--', t, t**3, 'bs', t, factorial(t), 'g^')\n",
    "plt.show()"
   ]
  },
  {
   "cell_type": "code",
   "execution_count": 43,
   "metadata": {
    "collapsed": true
   },
   "outputs": [],
   "source": [
    "def p(s,r):\n",
    "    \"\"\"\n",
    "    Computes permutations of n numbers taking r at a time \n",
    "    \n",
    "    Args:\n",
    "       s : string representing seq of chars \n",
    "       r: length of permutation to create\n",
    "       \n",
    "    Returns: \n",
    "        list of permutations of size r \n",
    "    \"\"\"\n",
    "    if (r==0 or len(s) == 0):\n",
    "        return list()\n",
    "    if(r == 1):\n",
    "        return list(s)\n",
    "    perms = []\n",
    "    for i in range(len(s)):\n",
    "        sub_perms = [s[i] + x for x in p(s[:i] + s[i+1:], r-1)]\n",
    "        perms += sub_perms\n",
    "        \n",
    "    return set(perms)\n"
   ]
  },
  {
   "cell_type": "code",
   "execution_count": 46,
   "metadata": {},
   "outputs": [
    {
     "name": "stdout",
     "output_type": "stream",
     "text": [
      "60\n"
     ]
    },
    {
     "data": {
      "text/plain": [
       "{'ehk',\n",
       " 'ehl',\n",
       " 'eho',\n",
       " 'ekh',\n",
       " 'ekl',\n",
       " 'eko',\n",
       " 'elh',\n",
       " 'elk',\n",
       " 'elo',\n",
       " 'eoh',\n",
       " 'eok',\n",
       " 'eol',\n",
       " 'hek',\n",
       " 'hel',\n",
       " 'heo',\n",
       " 'hke',\n",
       " 'hkl',\n",
       " 'hko',\n",
       " 'hle',\n",
       " 'hlk',\n",
       " 'hlo',\n",
       " 'hoe',\n",
       " 'hok',\n",
       " 'hol',\n",
       " 'keh',\n",
       " 'kel',\n",
       " 'keo',\n",
       " 'khe',\n",
       " 'khl',\n",
       " 'kho',\n",
       " 'kle',\n",
       " 'klh',\n",
       " 'klo',\n",
       " 'koe',\n",
       " 'koh',\n",
       " 'kol',\n",
       " 'leh',\n",
       " 'lek',\n",
       " 'leo',\n",
       " 'lhe',\n",
       " 'lhk',\n",
       " 'lho',\n",
       " 'lke',\n",
       " 'lkh',\n",
       " 'lko',\n",
       " 'loe',\n",
       " 'loh',\n",
       " 'lok',\n",
       " 'oeh',\n",
       " 'oek',\n",
       " 'oel',\n",
       " 'ohe',\n",
       " 'ohk',\n",
       " 'ohl',\n",
       " 'oke',\n",
       " 'okh',\n",
       " 'okl',\n",
       " 'ole',\n",
       " 'olh',\n",
       " 'olk'}"
      ]
     },
     "execution_count": 46,
     "metadata": {},
     "output_type": "execute_result"
    }
   ],
   "source": [
    "o = p('helko', 3)\n",
    "print(len(o))\n",
    "o"
   ]
  },
  {
   "cell_type": "code",
   "execution_count": 51,
   "metadata": {},
   "outputs": [
    {
     "name": "stdout",
     "output_type": "stream",
     "text": [
      "60\n"
     ]
    },
    {
     "data": {
      "text/plain": [
       "[('h', 'e', 'l'),\n",
       " ('h', 'e', 'l'),\n",
       " ('h', 'e', 'o'),\n",
       " ('h', 'l', 'e'),\n",
       " ('h', 'l', 'l'),\n",
       " ('h', 'l', 'o'),\n",
       " ('h', 'l', 'e'),\n",
       " ('h', 'l', 'l'),\n",
       " ('h', 'l', 'o'),\n",
       " ('h', 'o', 'e'),\n",
       " ('h', 'o', 'l'),\n",
       " ('h', 'o', 'l'),\n",
       " ('e', 'h', 'l'),\n",
       " ('e', 'h', 'l'),\n",
       " ('e', 'h', 'o'),\n",
       " ('e', 'l', 'h'),\n",
       " ('e', 'l', 'l'),\n",
       " ('e', 'l', 'o'),\n",
       " ('e', 'l', 'h'),\n",
       " ('e', 'l', 'l'),\n",
       " ('e', 'l', 'o'),\n",
       " ('e', 'o', 'h'),\n",
       " ('e', 'o', 'l'),\n",
       " ('e', 'o', 'l'),\n",
       " ('l', 'h', 'e'),\n",
       " ('l', 'h', 'l'),\n",
       " ('l', 'h', 'o'),\n",
       " ('l', 'e', 'h'),\n",
       " ('l', 'e', 'l'),\n",
       " ('l', 'e', 'o'),\n",
       " ('l', 'l', 'h'),\n",
       " ('l', 'l', 'e'),\n",
       " ('l', 'l', 'o'),\n",
       " ('l', 'o', 'h'),\n",
       " ('l', 'o', 'e'),\n",
       " ('l', 'o', 'l'),\n",
       " ('l', 'h', 'e'),\n",
       " ('l', 'h', 'l'),\n",
       " ('l', 'h', 'o'),\n",
       " ('l', 'e', 'h'),\n",
       " ('l', 'e', 'l'),\n",
       " ('l', 'e', 'o'),\n",
       " ('l', 'l', 'h'),\n",
       " ('l', 'l', 'e'),\n",
       " ('l', 'l', 'o'),\n",
       " ('l', 'o', 'h'),\n",
       " ('l', 'o', 'e'),\n",
       " ('l', 'o', 'l'),\n",
       " ('o', 'h', 'e'),\n",
       " ('o', 'h', 'l'),\n",
       " ('o', 'h', 'l'),\n",
       " ('o', 'e', 'h'),\n",
       " ('o', 'e', 'l'),\n",
       " ('o', 'e', 'l'),\n",
       " ('o', 'l', 'h'),\n",
       " ('o', 'l', 'e'),\n",
       " ('o', 'l', 'l'),\n",
       " ('o', 'l', 'h'),\n",
       " ('o', 'l', 'e'),\n",
       " ('o', 'l', 'l')]"
      ]
     },
     "execution_count": 51,
     "metadata": {},
     "output_type": "execute_result"
    }
   ],
   "source": [
    "import itertools\n",
    "o = itertools.permutations('hello',3)\n",
    "l=[x for x in o]\n",
    "print (len(l))\n",
    "l"
   ]
  },
  {
   "cell_type": "code",
   "execution_count": null,
   "metadata": {},
   "outputs": [],
   "source": [
    "def find(arr, x):\n",
    "    \"\"\"\n",
    "    Given a sorted array if there exists a 3-tuple that sums to x\n",
    "    \"\"\""
   ]
  }
 ],
 "metadata": {
  "kernelspec": {
   "display_name": "Python [Root]",
   "language": "python",
   "name": "Python [Root]"
  },
  "language_info": {
   "codemirror_mode": {
    "name": "ipython",
    "version": 3
   },
   "file_extension": ".py",
   "mimetype": "text/x-python",
   "name": "python",
   "nbconvert_exporter": "python",
   "pygments_lexer": "ipython3",
   "version": "3.5.2"
  }
 },
 "nbformat": 4,
 "nbformat_minor": 1
}
