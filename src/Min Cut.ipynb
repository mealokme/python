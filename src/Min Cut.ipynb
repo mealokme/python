{
 "cells": [
  {
   "cell_type": "markdown",
   "metadata": {},
   "source": [
    "Given a Array of ints A that needs to be cut and an array C of indices where the cuts need to be made. Find the order of cuts which minimizes the cost of the cut. \n",
    "The cost of the cut is size of array being cut. \n",
    "\n"
   ]
  },
  {
   "cell_type": "code",
   "execution_count": 11,
   "metadata": {},
   "outputs": [],
   "source": [
    "import sys\n",
    "def mincut(A, i, j, C):\n",
    "    if(len(C) == 0): #or C[c_i] < i or C[c_i] >= j ):\n",
    "        return 0\n",
    "    if(len(C) == 1 and (C[0] <i or C[0] >=j)):\n",
    "        return 0\n",
    "    print ('>> i:',i,' j:', j , 'c:', C[0])\n",
    "        \n",
    "    min_cost = float(\"inf\");\n",
    "    \n",
    "    for k in range(len(C)):\n",
    "        c1 = mincut(A, i, C[k], C[:k]+C[k+1:])\n",
    "        print ('  c1 : ' , c1)\n",
    "        c2 = mincut(A, C[k]+1, j, C[:k]+C[k+1:])\n",
    "        print ('  c2 : ' , c2)\n",
    "        k_cost =  c1 + c2\n",
    "        print('k_cost:', k_cost)\n",
    "        if(k_cost < min_cost):\n",
    "            min_cost = k_cost\n",
    "    print ('min_cost:', j-i + min_cost)\n",
    "    return j-i + min_cost\n"
   ]
  },
  {
   "cell_type": "code",
   "execution_count": 13,
   "metadata": {},
   "outputs": [
    {
     "name": "stdout",
     "output_type": "stream",
     "text": [
      "[9, 6, 8, 3, 1] [1, 2]\n",
      ">> i: 0  j: 5 c: 1\n",
      "  c1 :  0\n",
      ">> i: 2  j: 5 c: 2\n",
      "  c1 :  0\n",
      "  c2 :  0\n",
      "k_cost: 0\n",
      "min_cost: 3\n",
      "  c2 :  3\n",
      "k_cost: 3\n",
      ">> i: 0  j: 2 c: 1\n",
      "  c1 :  0\n",
      "  c2 :  0\n",
      "k_cost: 0\n",
      "min_cost: 2\n",
      "  c1 :  2\n",
      "  c2 :  0\n",
      "k_cost: 2\n",
      "min_cost: 7\n"
     ]
    },
    {
     "data": {
      "text/plain": [
       "7"
      ]
     },
     "execution_count": 13,
     "metadata": {},
     "output_type": "execute_result"
    }
   ],
   "source": [
    "import random\n",
    "arr = random.sample(range(10),5)\n",
    "cuts = [1,2]\n",
    "print (arr, cuts)\n",
    "mincut (arr, 0, len(arr), cuts)\n"
   ]
  },
  {
   "cell_type": "code",
   "execution_count": null,
   "metadata": {},
   "outputs": [],
   "source": [
    "def mincut2(arr, i, j, cuts):\n",
    "    if(len(cuts) == 0):\n",
    "        return 0\n",
    "    if(len(cuts) == 1 and (i > cuts[0] or j <= cuts[0])):\n",
    "        return 0\n",
    "    key = str(i)+'+'+str(j)\n",
    "    if key in dict:\n",
    "        return dict[key]\n",
    "    min_cost = float(\"inf\")\n",
    "    for k in range(len(cuts)):\n",
    "        c1 = mincut2()\n",
    "        c2 = mincut2()\n",
    "        if(min_cost < c1+c2):\n",
    "            min_cost = c1+c2\n",
    "    dict[key] = j-i + min_cost\n",
    "    \n",
    "    return dict[key]\n",
    "\n"
   ]
  },
  {
   "cell_type": "markdown",
   "metadata": {},
   "source": [
    "# Given a sorted array find if there exists a 2-tuple which sum up to a given number x\n"
   ]
  },
  {
   "cell_type": "code",
   "execution_count": null,
   "metadata": {},
   "outputs": [],
   "source": [
    "def find(arr, x):\n",
    "    i = 0\n",
    "    j= len(x) - 1\n",
    "    while(i < j):\n",
    "        a = arr[i]\n",
    "        b = arr[j]\n",
    "        if(a + b == x):\n",
    "            return True\n",
    "        if(a+b > x):\n",
    "            return False\n",
    "        else:\n",
    "            fd\n",
    "            \n",
    "        "
   ]
  }
 ],
 "metadata": {
  "kernelspec": {
   "display_name": "Python [Root]",
   "language": "python",
   "name": "Python [Root]"
  },
  "language_info": {
   "codemirror_mode": {
    "name": "ipython",
    "version": 3
   },
   "file_extension": ".py",
   "mimetype": "text/x-python",
   "name": "python",
   "nbconvert_exporter": "python",
   "pygments_lexer": "ipython3",
   "version": "3.5.2"
  }
 },
 "nbformat": 4,
 "nbformat_minor": 2
}
