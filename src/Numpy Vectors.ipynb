{
 "cells": [
  {
   "cell_type": "code",
   "execution_count": 2,
   "metadata": {},
   "outputs": [],
   "source": [
    "import numpy as np \n",
    "\n",
    "a = np.random.randn(5) # 5 gaussian variables in a"
   ]
  },
  {
   "cell_type": "code",
   "execution_count": 4,
   "metadata": {},
   "outputs": [
    {
     "name": "stdout",
     "output_type": "stream",
     "text": [
      "[ 1.40048158 -1.01506008 -0.34480529  1.17663168  1.87942489]\n"
     ]
    }
   ],
   "source": [
    "print(a)"
   ]
  },
  {
   "cell_type": "code",
   "execution_count": 7,
   "metadata": {},
   "outputs": [
    {
     "name": "stdout",
     "output_type": "stream",
     "text": [
      "(5,)\n"
     ]
    }
   ],
   "source": [
    "print(a.shape) # Rank 1 array , which is neither a row or a column vector \n"
   ]
  },
  {
   "cell_type": "code",
   "execution_count": 9,
   "metadata": {},
   "outputs": [
    {
     "name": "stdout",
     "output_type": "stream",
     "text": [
      "[ 1.40048158 -1.01506008 -0.34480529  1.17663168  1.87942489]\n"
     ]
    }
   ],
   "source": [
    "print (a.T)"
   ]
  },
  {
   "cell_type": "code",
   "execution_count": 10,
   "metadata": {},
   "outputs": [
    {
     "name": "stdout",
     "output_type": "stream",
     "text": [
      "8.02728630981\n"
     ]
    }
   ],
   "source": [
    "print(np.dot(a, a.T))"
   ]
  },
  {
   "cell_type": "code",
   "execution_count": 18,
   "metadata": {},
   "outputs": [
    {
     "name": "stdout",
     "output_type": "stream",
     "text": [
      "[[ 1.01239202]\n",
      " [ 0.11618992]\n",
      " [-0.62451115]\n",
      " [-1.72999328]\n",
      " [ 1.67465077]]\n",
      "(5, 1)\n"
     ]
    }
   ],
   "source": [
    "# instead use a with shape (5,1) when coding NN \n",
    "a = np.random.randn(5,1) # Column vector \n",
    "print(a)\n",
    "print (a.shape)"
   ]
  },
  {
   "cell_type": "code",
   "execution_count": 13,
   "metadata": {},
   "outputs": [
    {
     "name": "stdout",
     "output_type": "stream",
     "text": [
      "[[ 1.3026669  -0.5628661   0.61173229  0.3974514  -0.45557304]]\n"
     ]
    }
   ],
   "source": [
    "print(a.T)"
   ]
  },
  {
   "cell_type": "code",
   "execution_count": 15,
   "metadata": {},
   "outputs": [
    {
     "name": "stdout",
     "output_type": "stream",
     "text": [
      "[[ 1.69694106 -0.73322703  0.79688341  0.51774678 -0.59345992]\n",
      " [-0.73322703  0.31681824 -0.34432337 -0.22371192  0.25642662]\n",
      " [ 0.79688341 -0.34432337  0.3742164   0.24313385 -0.27868874]\n",
      " [ 0.51774678 -0.22371192  0.24313385  0.15796761 -0.18106814]\n",
      " [-0.59345992  0.25642662 -0.27868874 -0.18106814  0.20754679]]\n"
     ]
    }
   ],
   "source": [
    "print(np.dot(a, a.T))"
   ]
  },
  {
   "cell_type": "markdown",
   "metadata": {},
   "source": [
    "## Lets try row-vector dot col-vector"
   ]
  },
  {
   "cell_type": "code",
   "execution_count": 20,
   "metadata": {},
   "outputs": [
    {
     "name": "stdout",
     "output_type": "stream",
     "text": [
      "[[-0.20011264 -1.36466987 -1.29315034 -0.53682214 -0.17205009]]\n",
      "(1, 5)\n"
     ]
    }
   ],
   "source": [
    "a = np.random.randn(1,5)\n",
    "print(a)\n",
    "print(a.shape)"
   ]
  },
  {
   "cell_type": "code",
   "execution_count": 21,
   "metadata": {},
   "outputs": [
    {
     "name": "stdout",
     "output_type": "stream",
     "text": [
      "[[ 3.89238599]]\n"
     ]
    }
   ],
   "source": [
    "print(np.dot(a, a.T))"
   ]
  },
  {
   "cell_type": "code",
   "execution_count": 24,
   "metadata": {},
   "outputs": [
    {
     "name": "stdout",
     "output_type": "stream",
     "text": [
      "(5,) (5, 1)\n"
     ]
    }
   ],
   "source": [
    " # Reshape a rank 1 array \n",
    "arr = np.random.randn(5)\n",
    "print (arr.shape, arr.reshape(5,1).shape)"
   ]
  }
 ],
 "metadata": {
  "anaconda-cloud": {},
  "kernelspec": {
   "display_name": "Python [Root]",
   "language": "python",
   "name": "Python [Root]"
  },
  "language_info": {
   "codemirror_mode": {
    "name": "ipython",
    "version": 3
   },
   "file_extension": ".py",
   "mimetype": "text/x-python",
   "name": "python",
   "nbconvert_exporter": "python",
   "pygments_lexer": "ipython3",
   "version": "3.5.2"
  }
 },
 "nbformat": 4,
 "nbformat_minor": 2
}
